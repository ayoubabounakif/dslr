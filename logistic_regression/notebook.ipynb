{
 "cells": [
  {
   "cell_type": "code",
   "execution_count": 75,
   "metadata": {},
   "outputs": [],
   "source": [
    "import pandas as pd\n",
    "import numpy as np\n",
    "\n",
    "from sklearn.preprocessing import StandardScaler\n",
    "from sklearn.preprocessing import LabelEncoder\n",
    "from sklearn.impute import SimpleImputer\n",
    "\n",
    "from sklearn.model_selection import train_test_split\n",
    "from sklearn.metrics import accuracy_score"
   ]
  },
  {
   "cell_type": "code",
   "execution_count": 76,
   "metadata": {},
   "outputs": [],
   "source": [
    "class MyLogisticRegression:\n",
    "  def __init__(self, learning_rate=0.01, max_iter=1000, threshold=0.5):\n",
    "    self.classifiers = {}\n",
    "    self.learning_rate = learning_rate\n",
    "    self.max_iter = max_iter\n",
    "    self.threshold = threshold\n",
    "\n",
    "  def loss(self, y, hypothesis):\n",
    "    m = len(y)\n",
    "    epsilon = 1e-10\n",
    "    j_theta = (-1 / m) * np.sum((y * np.log(hypothesis + epsilon)) + ((1 - y) * np.log(1 - hypothesis + epsilon)))\n",
    "    return j_theta\n",
    "  \n",
    "  def sigmoid(self, z):\n",
    "    return 1 / (1 + np.exp(-z))\n",
    "\n",
    "  def hypothesis(self, X, weights, bias):\n",
    "    return self.sigmoid(np.dot(X, weights) + bias)\n",
    "  \n",
    "  def fit(self, X, y):\n",
    "    classes = np.unique(y)\n",
    "    for c in classes:\n",
    "        binary_y = (y == c).astype(int)\n",
    "        self.classifiers[c] = self.train_binary_classifier(X, binary_y)\n",
    "\n",
    "  def train_binary_classifier(self, X, y):\n",
    "    m, n = X.shape\n",
    "    weights = np.zeros(n)\n",
    "    bias = 0\n",
    "\n",
    "    for _ in range(self.max_iter):\n",
    "      y_hat = self.hypothesis(X, weights, bias)\n",
    "\n",
    "      # avg_loss = self.loss(y, y_hat)\n",
    "\n",
    "      derivative_theta = (1 / m) * np.dot(y_hat - y, X)\n",
    "      derivative_bias = (1 / m) * np.sum(y_hat - y)\n",
    "      weights -= self.learning_rate * derivative_theta\n",
    "      bias -= self.learning_rate * derivative_bias\n",
    "\n",
    "    return weights, bias\n",
    "\n",
    "  def predict(self, X):\n",
    "    predicted_classes = []\n",
    "    for c in self.classifiers:\n",
    "        weights, bias = self.classifiers[c]\n",
    "        probabilities = self.hypothesis(X, weights, bias)\n",
    "        class_pred = (probabilities >= self.threshold).astype(int)\n",
    "        predicted_classes.append(class_pred)\n",
    "\n",
    "    # I will have 4 arrays of 1s and 0s, each array consists of a particular class\n",
    "    # The class with the highest probability is the predicted class\n",
    "    return np.argmax(predicted_classes, axis=0)\n",
    "\n",
    "    \n"
   ]
  },
  {
   "cell_type": "markdown",
   "metadata": {},
   "source": [
    "### Iris dataset "
   ]
  },
  {
   "cell_type": "code",
   "execution_count": 77,
   "metadata": {},
   "outputs": [],
   "source": [
    "# from sklearn.datasets import load_iris\n",
    "\n",
    "# df = load_iris()\n",
    "# X = df.data\n",
    "# y = df.target\n",
    "\n",
    "# X_train, X_test, y_train, y_test = train_test_split(X, y, random_state=42, train_size=0.7)\n",
    "\n",
    "# scaler = StandardScaler()\n",
    "# X_train = scaler.fit_transform(X_train)\n",
    "# X_test = scaler.transform(X_test)"
   ]
  },
  {
   "cell_type": "markdown",
   "metadata": {},
   "source": [
    "### Hogwarts Dataset"
   ]
  },
  {
   "cell_type": "code",
   "execution_count": 78,
   "metadata": {},
   "outputs": [],
   "source": [
    "df = pd.read_csv('../datasets/dataset_train.csv')\n",
    "\n",
    "label_encoder = LabelEncoder()\n",
    "df['target'] = label_encoder.fit_transform(df['Hogwarts House'])\n",
    "\n",
    "numeric_features = df.select_dtypes(include=[np.number])\n",
    "imp = SimpleImputer(strategy='mean')\n",
    "numeric_features = pd.DataFrame(imp.fit_transform(numeric_features), columns=numeric_features.columns)\n",
    "\n",
    "X = numeric_features.drop(columns=['target'])\n",
    "y = df['target']\n",
    "\n",
    "X_train, X_test, y_train, y_test = train_test_split(X, y, test_size=0.2, random_state=42)\n",
    "\n",
    "scaler = StandardScaler()\n",
    "X_train = scaler.fit_transform(X_train)\n",
    "X_test = scaler.transform(X_test)"
   ]
  },
  {
   "cell_type": "code",
   "execution_count": 79,
   "metadata": {},
   "outputs": [
    {
     "name": "stdout",
     "output_type": "stream",
     "text": [
      "0.9875\n"
     ]
    }
   ],
   "source": [
    "from sklearn.linear_model import LogisticRegression\n",
    "\n",
    "model = LogisticRegression()\n",
    "model.fit(X_train, y_train)\n",
    "\n",
    "y_pred = model.predict(X_test)\n",
    "accuracy = accuracy_score(y_test, y_pred)\n",
    "\n",
    "print(accuracy)"
   ]
  },
  {
   "cell_type": "code",
   "execution_count": 85,
   "metadata": {},
   "outputs": [],
   "source": [
    "MyLR = MyLogisticRegression(learning_rate=0.1, max_iter=100, threshold=0.5)\n",
    "\n",
    "MyLR.fit(X_train, y_train)\n",
    "y_pred = MyLR.predict(X_test)"
   ]
  },
  {
   "cell_type": "code",
   "execution_count": 86,
   "metadata": {},
   "outputs": [
    {
     "data": {
      "text/plain": [
       "0.9875"
      ]
     },
     "execution_count": 86,
     "metadata": {},
     "output_type": "execute_result"
    }
   ],
   "source": [
    "accuracy_score(y_test, y_pred)"
   ]
  },
  {
   "cell_type": "code",
   "execution_count": 82,
   "metadata": {},
   "outputs": [
    {
     "data": {
      "text/plain": [
       "array(['Gryffindor', 'Hufflepuff', 'Slytherin', 'Ravenclaw', 'Hufflepuff',\n",
       "       'Hufflepuff', 'Hufflepuff', 'Ravenclaw', 'Gryffindor', 'Slytherin',\n",
       "       'Hufflepuff', 'Ravenclaw', 'Gryffindor', 'Ravenclaw', 'Ravenclaw',\n",
       "       'Hufflepuff', 'Hufflepuff', 'Slytherin', 'Hufflepuff',\n",
       "       'Gryffindor', 'Slytherin', 'Hufflepuff', 'Slytherin', 'Hufflepuff',\n",
       "       'Hufflepuff', 'Slytherin', 'Hufflepuff', 'Hufflepuff',\n",
       "       'Hufflepuff', 'Gryffindor', 'Ravenclaw', 'Gryffindor',\n",
       "       'Gryffindor', 'Hufflepuff', 'Slytherin', 'Gryffindor',\n",
       "       'Hufflepuff', 'Ravenclaw', 'Hufflepuff', 'Ravenclaw', 'Ravenclaw',\n",
       "       'Hufflepuff', 'Ravenclaw', 'Hufflepuff', 'Ravenclaw', 'Ravenclaw',\n",
       "       'Hufflepuff', 'Hufflepuff', 'Ravenclaw', 'Gryffindor', 'Ravenclaw',\n",
       "       'Ravenclaw', 'Hufflepuff', 'Ravenclaw', 'Hufflepuff', 'Slytherin',\n",
       "       'Gryffindor', 'Hufflepuff', 'Ravenclaw', 'Ravenclaw', 'Gryffindor',\n",
       "       'Hufflepuff', 'Hufflepuff', 'Ravenclaw', 'Ravenclaw', 'Gryffindor',\n",
       "       'Ravenclaw', 'Ravenclaw', 'Gryffindor', 'Gryffindor', 'Slytherin',\n",
       "       'Gryffindor', 'Hufflepuff', 'Ravenclaw', 'Hufflepuff', 'Ravenclaw',\n",
       "       'Gryffindor', 'Hufflepuff', 'Gryffindor', 'Ravenclaw',\n",
       "       'Hufflepuff', 'Hufflepuff', 'Hufflepuff', 'Hufflepuff',\n",
       "       'Ravenclaw', 'Hufflepuff', 'Ravenclaw', 'Hufflepuff', 'Slytherin',\n",
       "       'Ravenclaw', 'Gryffindor', 'Ravenclaw', 'Gryffindor', 'Gryffindor',\n",
       "       'Ravenclaw', 'Hufflepuff', 'Slytherin', 'Gryffindor', 'Hufflepuff',\n",
       "       'Ravenclaw', 'Hufflepuff', 'Hufflepuff', 'Hufflepuff',\n",
       "       'Hufflepuff', 'Slytherin', 'Slytherin', 'Slytherin', 'Hufflepuff',\n",
       "       'Ravenclaw', 'Gryffindor', 'Gryffindor', 'Hufflepuff',\n",
       "       'Hufflepuff', 'Hufflepuff', 'Ravenclaw', 'Ravenclaw', 'Hufflepuff',\n",
       "       'Slytherin', 'Hufflepuff', 'Ravenclaw', 'Slytherin', 'Ravenclaw',\n",
       "       'Ravenclaw', 'Ravenclaw', 'Ravenclaw', 'Gryffindor', 'Gryffindor',\n",
       "       'Ravenclaw', 'Slytherin', 'Ravenclaw', 'Slytherin', 'Ravenclaw',\n",
       "       'Ravenclaw', 'Gryffindor', 'Gryffindor', 'Hufflepuff',\n",
       "       'Hufflepuff', 'Hufflepuff', 'Slytherin', 'Slytherin', 'Hufflepuff',\n",
       "       'Slytherin', 'Ravenclaw', 'Slytherin', 'Ravenclaw', 'Slytherin',\n",
       "       'Ravenclaw', 'Gryffindor', 'Hufflepuff', 'Gryffindor',\n",
       "       'Hufflepuff', 'Slytherin', 'Ravenclaw', 'Slytherin', 'Hufflepuff',\n",
       "       'Ravenclaw', 'Ravenclaw', 'Slytherin', 'Gryffindor', 'Gryffindor',\n",
       "       'Slytherin', 'Ravenclaw', 'Ravenclaw', 'Ravenclaw', 'Slytherin',\n",
       "       'Hufflepuff', 'Slytherin', 'Ravenclaw', 'Slytherin', 'Ravenclaw',\n",
       "       'Slytherin', 'Hufflepuff', 'Hufflepuff', 'Ravenclaw', 'Hufflepuff',\n",
       "       'Ravenclaw', 'Hufflepuff', 'Hufflepuff', 'Gryffindor',\n",
       "       'Hufflepuff', 'Ravenclaw', 'Hufflepuff', 'Ravenclaw', 'Ravenclaw',\n",
       "       'Gryffindor', 'Hufflepuff', 'Gryffindor', 'Hufflepuff',\n",
       "       'Slytherin', 'Ravenclaw', 'Ravenclaw', 'Slytherin', 'Gryffindor',\n",
       "       'Ravenclaw', 'Slytherin', 'Hufflepuff', 'Gryffindor', 'Slytherin',\n",
       "       'Gryffindor', 'Gryffindor', 'Hufflepuff', 'Hufflepuff',\n",
       "       'Gryffindor', 'Ravenclaw', 'Slytherin', 'Ravenclaw', 'Hufflepuff',\n",
       "       'Hufflepuff', 'Ravenclaw', 'Gryffindor', 'Ravenclaw', 'Ravenclaw',\n",
       "       'Gryffindor', 'Hufflepuff', 'Gryffindor', 'Ravenclaw', 'Ravenclaw',\n",
       "       'Hufflepuff', 'Ravenclaw', 'Ravenclaw', 'Hufflepuff', 'Gryffindor',\n",
       "       'Slytherin', 'Hufflepuff', 'Slytherin', 'Hufflepuff', 'Slytherin',\n",
       "       'Ravenclaw', 'Slytherin', 'Ravenclaw', 'Gryffindor', 'Hufflepuff',\n",
       "       'Gryffindor', 'Slytherin', 'Ravenclaw', 'Slytherin', 'Gryffindor',\n",
       "       'Ravenclaw', 'Ravenclaw', 'Hufflepuff', 'Slytherin', 'Hufflepuff',\n",
       "       'Gryffindor', 'Gryffindor', 'Hufflepuff', 'Hufflepuff',\n",
       "       'Hufflepuff', 'Hufflepuff', 'Hufflepuff', 'Slytherin',\n",
       "       'Hufflepuff', 'Slytherin', 'Gryffindor', 'Hufflepuff',\n",
       "       'Gryffindor', 'Ravenclaw', 'Gryffindor', 'Hufflepuff', 'Ravenclaw',\n",
       "       'Gryffindor', 'Ravenclaw', 'Hufflepuff', 'Ravenclaw', 'Gryffindor',\n",
       "       'Hufflepuff', 'Hufflepuff', 'Slytherin', 'Hufflepuff', 'Slytherin',\n",
       "       'Gryffindor', 'Slytherin', 'Slytherin', 'Hufflepuff', 'Gryffindor',\n",
       "       'Gryffindor', 'Ravenclaw', 'Slytherin', 'Slytherin', 'Hufflepuff',\n",
       "       'Hufflepuff', 'Ravenclaw', 'Hufflepuff', 'Hufflepuff',\n",
       "       'Hufflepuff', 'Gryffindor', 'Ravenclaw', 'Hufflepuff',\n",
       "       'Gryffindor', 'Hufflepuff', 'Ravenclaw', 'Slytherin', 'Ravenclaw',\n",
       "       'Slytherin', 'Gryffindor', 'Slytherin', 'Ravenclaw', 'Ravenclaw',\n",
       "       'Slytherin', 'Ravenclaw', 'Hufflepuff', 'Hufflepuff', 'Ravenclaw',\n",
       "       'Hufflepuff', 'Gryffindor', 'Slytherin', 'Hufflepuff', 'Ravenclaw',\n",
       "       'Slytherin', 'Hufflepuff', 'Gryffindor', 'Gryffindor',\n",
       "       'Gryffindor', 'Ravenclaw', 'Ravenclaw', 'Ravenclaw', 'Slytherin',\n",
       "       'Hufflepuff', 'Hufflepuff', 'Gryffindor', 'Hufflepuff'],\n",
       "      dtype=object)"
      ]
     },
     "execution_count": 82,
     "metadata": {},
     "output_type": "execute_result"
    }
   ],
   "source": [
    "y_pred = label_encoder.inverse_transform(y_pred)\n",
    "y_pred"
   ]
  }
 ],
 "metadata": {
  "kernelspec": {
   "display_name": "42AI-aybeee_",
   "language": "python",
   "name": "python3"
  },
  "language_info": {
   "codemirror_mode": {
    "name": "ipython",
    "version": 3
   },
   "file_extension": ".py",
   "mimetype": "text/x-python",
   "name": "python",
   "nbconvert_exporter": "python",
   "pygments_lexer": "ipython3",
   "version": "3.10.13"
  }
 },
 "nbformat": 4,
 "nbformat_minor": 2
}
